{
 "cells": [
  {
   "cell_type": "code",
   "execution_count": 1,
   "metadata": {
    "collapsed": true
   },
   "outputs": [],
   "source": [
    "sc = SparkContext.getOrCreate()"
   ]
  },
  {
   "cell_type": "code",
   "execution_count": 2,
   "metadata": {
    "collapsed": true
   },
   "outputs": [],
   "source": [
    "#1.a\n",
    "\n",
    "import re\n",
    "import datetime\n",
    "from pyspark.sql import Row\n",
    "month_map = {'Jan':1, 'Feb':2, 'Mar':3, 'Apr':4, 'May':5, 'Jun':6, 'Jul':7, 'Aug':8, 'Sep':9, 'Oct':10, 'Nov':11, 'Dec':12}\n",
    "\n",
    "def parse_apache_time(s):\n",
    "    return datetime.datetime(int(s[7:11]),\n",
    "                    month_map[s[3:6]],\n",
    "                    int(s[0:2]),\n",
    "                    int(s[12:14]),\n",
    "                    int(s[15:17]),\n",
    "                    int(s[18:20]))\n",
    "\n",
    "def parseApacheLogLine(logline):\n",
    "    match=re.search(APACHE_ACCESS_LOG_PATTERN, logline)\n",
    "    if match is None:\n",
    "        return (logline, 0)\n",
    "    size_field = match.group(9)\n",
    "    if size_field =='-':\n",
    "        size = long(0)\n",
    "    else:\n",
    "        size = long(match.group(9))\n",
    "    return (Row(host = match.group(1),\n",
    "                client_identd = match.group(2),\n",
    "                user_id = match.group(3),\n",
    "                date_time = parse_apache_time(match.group(4)),\n",
    "                method = match.group(5),\n",
    "                endpoint = match.group(6),\n",
    "                protocol = match.group(7),\n",
    "                response_code = int(match.group(8)),\n",
    "                content_size = size), 1)\n",
    "\n",
    "APACHE_ACCESS_LOG_PATTERN = '^(\\S+) (\\S+) (\\S+) \\[([\\w:/]+\\s[+\\-]\\d{4})\\] \"(\\S+) (\\S+)\\s*(\\S*)\" (\\d{3}) (\\S+)'\n"
   ]
  },
  {
   "cell_type": "code",
   "execution_count": 3,
   "metadata": {},
   "outputs": [
    {
     "name": "stdout",
     "output_type": "stream",
     "text": [
      "Number of invalid logline:58\n",
      "invalid logline:wxs6-7.worldaccess.nl - - [02/Jul/1995:08:09:27 -0400] \"GET / /   HTTP/1.0\" 200 7074\n",
      "invalid logline:wxs6-7.worldaccess.nl - - [02/Jul/1995:08:11:20 -0400] \"GET / /facts/facts.html HTTP/1.0\" 200 7074\n",
      "invalid logline:s29.abqslip.indirect.com - - [02/Jul/1995:14:24:26 -0400] \"GET /htbin/wais.pl?Wake Shield HTTP/1.0\" 200 7020\n",
      "invalid logline:pipe3.nyc.pipeline.com - - [02/Jul/1995:22:24:41 -0400] \"GET /shuttle/countdown/dy �?shuttle%20tracking HTTP/1.0\" 404 -\n",
      "invalid logline:pipe3.nyc.pipeline.com - - [02/Jul/1995:22:25:48 -0400] \"GET /shuttle/countdown/dy �?tracking%20station HTTP/1.0\" 404 -\n",
      "invalid logline:wxs6-4.worldaccess.nl - - [03/Jul/1995:08:14:40 -0400] \"GET / /   HTTP/1.0\" 304 0\n",
      "invalid logline:atl4-m52.ed.ac.uk - - [03/Jul/1995:09:31:12 -0400] \"GET /images/NASA-logosmall.gif align=left HTTP/1.0\" 200 786\n",
      "invalid logline:atl4-m52.ed.ac.uk - - [03/Jul/1995:09:32:20 -0400] \"GET /images/NASA-logosmall.gif align=left HTTP/1.0\" 200 786\n",
      "invalid logline:atl4-m52.ed.ac.uk - - [03/Jul/1995:09:32:47 -0400] \"GET /images/NASA-logosmall.gif align=left HTTP/1.0\" 200 786\n",
      "invalid logline:atl4-m52.ed.ac.uk - - [03/Jul/1995:09:33:50 -0400] \"GET /images/NASA-logosmall.gif align=left HTTP/1.0\" 200 786\n",
      "invalid logline:atl4-m52.ed.ac.uk - - [03/Jul/1995:09:35:27 -0400] \"GET /images/NASA-logosmall.gif align=left HTTP/1.0\" 200 786\n",
      "invalid logline:atl4-m52.ed.ac.uk - - [03/Jul/1995:09:36:21 -0400] \"GET /images/NASA-logosmall.gif align=left HTTP/1.0\" 200 786\n",
      "invalid logline:atl4-m52.ed.ac.uk - - [03/Jul/1995:09:38:23 -0400] \"GET /images/NASA-logosmall.gif align=left HTTP/1.0\" 200 786\n",
      "invalid logline:atl4-m52.ed.ac.uk - - [03/Jul/1995:09:39:10 -0400] \"GET /images/NASA-logosmall.gif align=left HTTP/1.0\" 200 786\n",
      "invalid logline:atl4-m52.ed.ac.uk - - [03/Jul/1995:09:40:08 -0400] \"GET /images/NASA-logosmall.gif align=left HTTP/1.0\" 200 786\n",
      "invalid logline:atl4-m52.ed.ac.uk - - [03/Jul/1995:09:44:39 -0400] \"GET /images/NASA-logosmall.gif align=left HTTP/1.0\" 200 786\n",
      "invalid logline:atl4-m52.ed.ac.uk - - [03/Jul/1995:09:45:34 -0400] \"GET /images/NASA-logosmall.gif align=left HTTP/1.0\" 200 786\n",
      "invalid logline:atl4-m52.ed.ac.uk - - [03/Jul/1995:09:50:04 -0400] \"GET /images/NASA-logosmall.gif align=left HTTP/1.0\" 200 786\n",
      "invalid logline:atl4-m52.ed.ac.uk - - [03/Jul/1995:09:50:27 -0400] \"GET /images/NASA-logosmall.gif align=left HTTP/1.0\" 200 786\n",
      "invalid logline:atl4-m52.ed.ac.uk - - [03/Jul/1995:09:52:38 -0400] \"GET /images/NASA-logosmall.gif align=left HTTP/1.0\" 200 786\n",
      "Read 314876 lines, successfully parsed 314818 lines, failed to parse 58 lines\n"
     ]
    }
   ],
   "source": [
    "# 1.b\n",
    "\n",
    "logFile = \"NASAlog.txt\"\n",
    "\n",
    "def parseLogs():\n",
    "    parsed_logs = (sc.textFile(logFile).map(parseApacheLogLine).cache())\n",
    "    \n",
    "    access_logs = (parsed_logs.filter(lambda s:s[1] == 1).map(lambda s:s[0]).cache())\n",
    "    \n",
    "    failed_logs = (parsed_logs.filter(lambda s:s[1]== 0).map(lambda s:s[0]))\n",
    "    \n",
    "    failed_logs_count = failed_logs.count()\n",
    "    if failed_logs_count>0:\n",
    "        print 'Number of invalid logline:%d'%failed_logs.count()\n",
    "        for line in failed_logs.take(20):\n",
    "            print 'invalid logline:%s'%line\n",
    "            \n",
    "    print 'Read %d lines, successfully parsed %d lines, failed to parse %d lines'%(parsed_logs.count(), access_logs.count(),\n",
    "                                                                                   failed_logs.count())\n",
    "    return parsed_logs, access_logs, failed_logs\n",
    "\n",
    "parsed_logs, access_logs, failed_logs = parseLogs()"
   ]
  },
  {
   "cell_type": "code",
   "execution_count": 4,
   "metadata": {},
   "outputs": [
    {
     "name": "stdout",
     "output_type": "stream",
     "text": [
      "Read 314876 lines, successfully parsed 314876 lines, failed to parse 0 lines\n",
      "0\n",
      "314876\n",
      "314876\n"
     ]
    }
   ],
   "source": [
    "# 1.c\n",
    "\n",
    "APACHE_ACCESS_LOG_PATTERN = '^(\\S+) (\\S+) (\\S+).*\\[([\\w:\\/]+\\s[+\\-]\\d{4})\\] \"(\\S+) (\\S*)( *\\S+ *)*\" (\\d{3}) (\\S+)'\n",
    "\n",
    "parsed_logs, access_logs, failed_logs = parseLogs()\n",
    "\n",
    "\n",
    "print failed_logs.count()\n",
    "\n",
    "print parsed_logs.count()\n",
    "\n",
    "print access_logs.count()"
   ]
  },
  {
   "cell_type": "code",
   "execution_count": 5,
   "metadata": {},
   "outputs": [
    {
     "name": "stdout",
     "output_type": "stream",
     "text": [
      "Content Size Avg: 23542, Min: 0, Max: 2973350\n"
     ]
    }
   ],
   "source": [
    "# 2.a\n",
    "\n",
    "content_sizes = access_logs.map(lambda log: log.content_size).cache()\n",
    "print 'Content Size Avg: %i, Min: %i, Max: %s' % (\n",
    "content_sizes.reduce(lambda a, b : a + b) / content_sizes.count(),\n",
    "content_sizes.min(),\n",
    "content_sizes.max())"
   ]
  },
  {
   "cell_type": "code",
   "execution_count": 6,
   "metadata": {},
   "outputs": [
    {
     "name": "stdout",
     "output_type": "stream",
     "text": [
      "Found 7 response codes\n",
      "Response Code Counts: [(200, 283992), (304, 17842), (404, 1621), (500, 53), (302, 11354), (403, 13), (501, 1)]\n"
     ]
    }
   ],
   "source": [
    "# 2.b\n",
    "\n",
    "responseCodeToCount = (access_logs\n",
    ".map(lambda log: (log.response_code, 1))\n",
    ".reduceByKey(lambda a, b : a + b)\n",
    ".cache())\n",
    "responseCodeToCountList = responseCodeToCount.take(100)\n",
    "print 'Found %d response codes' % len(responseCodeToCountList)\n",
    "print 'Response Code Counts: %s' % responseCodeToCountList"
   ]
  },
  {
   "cell_type": "code",
   "execution_count": 7,
   "metadata": {},
   "outputs": [
    {
     "name": "stdout",
     "output_type": "stream",
     "text": [
      "[200, 304, 404, 500, 302, 403, 501]\n",
      "[0.9019169450831438, 0.05666357550273759, 0.005148058283260712, 0.00016832022764516825, 0.03605863895628755, 4.1286093573343156e-05, 3.1758533517956276e-06]\n"
     ]
    },
    {
     "data": {
      "image/png": "[encoded data removed]",
      "text/plain": [
       "<matplotlib.figure.Figure at 0x932a668>"
      ]
     },
     "metadata": {},
     "output_type": "display_data"
    }
   ],
   "source": [
    "# 2.c\n",
    "\n",
    "labels = responseCodeToCount.map(lambda (x, y): x).collect()\n",
    "print labels\n",
    "count = access_logs.count()\n",
    "fracs = responseCodeToCount.map(lambda (x, y): (float(y) / count)).collect()\n",
    "print fracs\n",
    "\n",
    "import matplotlib.pyplot as plt\n",
    "def pie_pct_format(value):\n",
    "    return '' if value < 7 else '%.0f%%' % value\n",
    "\n",
    "fig = plt.figure(figsize=(4.5, 4.5), facecolor='white', edgecolor='white')\n",
    "colors = ['yellowgreen', 'lightskyblue', 'gold', 'purple', 'lightcoral', 'yellow', 'black']\n",
    "explode = (0.05, 0.05, 0.1, 0, 0, 0, 0)\n",
    "patches, texts, autotexts = plt.pie(fracs, labels=labels, colors=colors,\n",
    "explode=explode, autopct=pie_pct_format,\n",
    "shadow=False, startangle=125)\n",
    "\n",
    "for text, autotext in zip(texts, autotexts):\n",
    "    if autotext.get_text() == '':\n",
    "        text.set_text('') # If the slice is small to fit, don't show a text label\n",
    "plt.legend(labels, loc=(0.80, -0.1), shadow=True)\n",
    "display(fig)"
   ]
  },
  {
   "cell_type": "code",
   "execution_count": 8,
   "metadata": {},
   "outputs": [
    {
     "name": "stdout",
     "output_type": "stream",
     "text": [
      "Any 20 hosts that have accessed more then 10 times: [u'sos.wingham.com', u'151.114.64.64', u'dial-224.locm.dial.peach.net', u'134.134.192.7', u'ip16-029.phx.primenet.com', u'martym.space.swri.edu', u'libed-10.union.utah.edu', u'gs1.cs.ttu.edu', u'ruger-93.slip.uiuc.edu', u'dcn60.dcn.davis.ca.us', u'ppp3_207.bekkoame.or.jp', u'slip1-25.acs.ohio-state.edu', u'ad15-014.compuserve.com', u'skyblu.ccit.arizona.edu', u'bib7.bc.edu', u'hot12.cait.wustl.edu', u'd307.sth.pi.se', u'osip90.ionet.net', u'penang.sfc.keio.ac.jp', u'gbms01.uwgb.edu']\n"
     ]
    }
   ],
   "source": [
    "# 2.d\n",
    "\n",
    "hostCountPairTuple = access_logs.map(lambda log: (log.host, 1))\n",
    "hostSum = hostCountPairTuple.reduceByKey(lambda a, b : a + b)\n",
    "hostMoreThan10 = hostSum.filter(lambda s: s[1] > 10)\n",
    "hostsPick20 = (hostMoreThan10\n",
    ".map(lambda s: s[0])\n",
    ".take(20))\n",
    "print 'Any 20 hosts that have accessed more then 10 times: %s' % hostsPick20"
   ]
  },
  {
   "cell_type": "code",
   "execution_count": 9,
   "metadata": {},
   "outputs": [
    {
     "data": {
      "image/png": "[encoded data removed]",
      "text/plain": [
       "<matplotlib.figure.Figure at 0xbfa3780>"
      ]
     },
     "metadata": {},
     "output_type": "display_data"
    }
   ],
   "source": [
    "# 2.e\n",
    "\n",
    "endpoints = (access_logs\n",
    ".map(lambda log: (log.endpoint, 1))\n",
    ".reduceByKey(lambda a, b : a + b)\n",
    ".cache())\n",
    "ends = endpoints.map(lambda (x, y): x).collect()\n",
    "counts = endpoints.map(lambda (x, y): y).collect()\n",
    "fig = plt.figure(figsize=(8,4.2), facecolor='white', edgecolor='white')\n",
    "plt.axis([0, len(ends), 0, max(counts)])\n",
    "plt.grid(b=True, which='major', axis='y')\n",
    "plt.xlabel('Endpoints')\n",
    "plt.ylabel('Number of Hits')\n",
    "plt.plot(counts)\n",
    "display(fig)"
   ]
  },
  {
   "cell_type": "code",
   "execution_count": 10,
   "metadata": {},
   "outputs": [
    {
     "name": "stdout",
     "output_type": "stream",
     "text": [
      "Top Ten Endpoints: [(u'/images/NASA-logosmall.gif', 19065), (u'/images/KSC-logosmall.gif', 16502), (u'/shuttle/countdown/count.gif', 12230), (u'/shuttle/countdown/', 11992), (u'/images/MOSAIC-logosmall.gif', 7912), (u'/images/ksclogo-medium.gif', 7902), (u'/images/USA-logosmall.gif', 7887), (u'/images/WORLD-logosmall.gif', 7729), (u'/shuttle/missions/sts-71/images/images.html', 6718), (u'/shuttle/missions/sts-71/sts-71-patch-small.gif', 6628)]\n"
     ]
    }
   ],
   "source": [
    "# 2.f\n",
    "\n",
    "endpointCounts = (access_logs\n",
    ".map(lambda log: (log.endpoint, 1))\n",
    ".reduceByKey(lambda a, b : a + b))\n",
    "topEndpoints = endpointCounts.takeOrdered(10, lambda s: -1 * s[1])\n",
    "print 'Top Ten Endpoints: %s' % topEndpoints"
   ]
  },
  {
   "cell_type": "code",
   "execution_count": 11,
   "metadata": {},
   "outputs": [
    {
     "name": "stdout",
     "output_type": "stream",
     "text": [
      "4690\n",
      "Top Ten failed URLs: [(u'/images/NASA-logosmall.gif', 2404), (u'/images/KSC-logosmall.gif', 1806), (u'/shuttle/countdown/', 944), (u'/images/MOSAIC-logosmall.gif', 845), (u'/images/USA-logosmall.gif', 830), (u'/images/WORLD-logosmall.gif', 811), (u'/shuttle/countdown/count.gif', 777), (u'/images/ksclogo-medium.gif', 751), (u'/shuttle/countdown/liftoff.html', 590), (u'/shuttle/missions/sts-71/sts-71-patch-small.gif', 543)]\n"
     ]
    }
   ],
   "source": [
    "# 3.a\n",
    "\n",
    "not200 = access_logs.filter(lambda log: log.response_code != 200)\n",
    "endpointCountPairTuple = not200.map(lambda log: (log.endpoint, 1))\n",
    "endpointSum = endpointCountPairTuple.reduceByKey(lambda a,b: (a+b))\n",
    "topTenErrURLs = endpointSum.takeOrdered(10, lambda s: -1 * s[1])\n",
    "print endpointSum.count()\n",
    "\n",
    "print 'Top Ten failed URLs: %s' % topTenErrURLs"
   ]
  },
  {
   "cell_type": "code",
   "execution_count": 12,
   "metadata": {},
   "outputs": [
    {
     "name": "stdout",
     "output_type": "stream",
     "text": [
      "Unique hosts: 22013\n"
     ]
    }
   ],
   "source": [
    "# 3.b\n",
    "\n",
    "hosts = access_logs.map(lambda log: log.host)\n",
    "uniqueHosts = hosts.distinct()\n",
    "uniqueHostCount = uniqueHosts.count()\n",
    "print 'Unique hosts: %d' % uniqueHostCount"
   ]
  },
  {
   "cell_type": "code",
   "execution_count": 13,
   "metadata": {},
   "outputs": [
    {
     "name": "stdout",
     "output_type": "stream",
     "text": [
      "Unique hosts per day: [(2, 4859), (3, 7336), (4, 5524), (5, 7383)]\n"
     ]
    },
    {
     "data": {
      "text/plain": [
       "PythonRDD[74] at RDD at PythonRDD.scala:48"
      ]
     },
     "execution_count": 13,
     "metadata": {},
     "output_type": "execute_result"
    }
   ],
   "source": [
    "# 3.c\n",
    "\n",
    "dayToHostPairTuple = access_logs.map(lambda log: (log.date_time.day, log.host))\n",
    "dayGroupedHosts = dayToHostPairTuple.groupByKey()\n",
    "dayHostCount = dayGroupedHosts.map(lambda pair: (pair[0], len(set(pair[1]))))\n",
    "dailyHosts = (dayHostCount.sortByKey().cache())\n",
    "dailyHostsList = dailyHosts.takeOrdered(4)\n",
    "print 'Unique hosts per day: %s' % dailyHostsList\n",
    "dailyHosts.cache()"
   ]
  },
  {
   "cell_type": "code",
   "execution_count": 15,
   "metadata": {},
   "outputs": [
    {
     "name": "stdout",
     "output_type": "stream",
     "text": [
      "[2, 3, 4, 5]\n",
      "[4859, 7336, 5524, 7383]\n"
     ]
    },
    {
     "data": {
      "image/png": "[encoded data removed]",
      "text/plain": [
       "<matplotlib.figure.Figure at 0xc4f5b38>"
      ]
     },
     "metadata": {},
     "output_type": "display_data"
    }
   ],
   "source": [
    "# 3.d\n",
    "\n",
    "daysWithHosts = dailyHosts.map(lambda (x,y): x).collect()\n",
    "hosts = dailyHosts.map(lambda (x,y): y).collect()\n",
    "print daysWithHosts\n",
    "\n",
    "print hosts\n",
    "fig = plt.figure(figsize=(8,4.5), facecolor='white', edgecolor='white')\n",
    "plt.axis([min(daysWithHosts), max(daysWithHosts), 0, max(hosts)+500])\n",
    "plt.grid(b=True, which='major', axis='y')\n",
    "plt.xlabel('Day')\n",
    "plt.ylabel('Hosts')\n",
    "plt.plot(daysWithHosts, hosts)\n",
    "display(fig)"
   ]
  },
  {
   "cell_type": "code",
   "execution_count": 17,
   "metadata": {},
   "outputs": [
    {
     "name": "stdout",
     "output_type": "stream",
     "text": [
      "Average number of daily requests per Hosts is [(2, 12), (3, 12), (4, 12), (5, 12)]\n"
     ]
    },
    {
     "data": {
      "text/plain": [
       "PythonRDD[90] at RDD at PythonRDD.scala:48"
      ]
     },
     "execution_count": 17,
     "metadata": {},
     "output_type": "execute_result"
    }
   ],
   "source": [
    "# 3.e\n",
    "\n",
    "dayAndHostTuple = access_logs.map(lambda log: (log.date_time.day, log.host))\n",
    "groupedByDay = dayAndHostTuple.groupByKey()\n",
    "sortedByDay = groupedByDay.sortByKey()\n",
    "avgDailyReqPerHost = (sortedByDay.map(lambda x: (x[0], len(x[1])/len(set(x[1])))).cache())\n",
    "avgDailyReqPerHostList = avgDailyReqPerHost.take(4)\n",
    "print 'Average number of daily requests per Hosts is %s' % avgDailyReqPerHostList\n",
    "\n",
    "avgDailyReqPerHost.cache()"
   ]
  },
  {
   "cell_type": "code",
   "execution_count": 18,
   "metadata": {},
   "outputs": [
    {
     "name": "stdout",
     "output_type": "stream",
     "text": [
      "[2, 3, 4, 5]\n",
      "[12, 12, 12, 12]\n"
     ]
    },
    {
     "data": {
      "image/png": "[encoded data removed]",
      "text/plain": [
       "<matplotlib.figure.Figure at 0xc5ae940>"
      ]
     },
     "metadata": {},
     "output_type": "display_data"
    }
   ],
   "source": [
    "# 3.f\n",
    "\n",
    "daysWithAvg = avgDailyReqPerHost.map(lambda (x,y): x).collect()\n",
    "avgs = avgDailyReqPerHost.map(lambda (x,y): y).collect()\n",
    "print daysWithAvg\n",
    "\n",
    "print avgs\n",
    "\n",
    "fig = plt.figure(figsize=(8,4.2), facecolor='white', edgecolor='white')\n",
    "plt.axis([0, max(daysWithAvg), 0, max(avgs)+2])\n",
    "plt.grid(b=True, which='major', axis='y')\n",
    "plt.xlabel('Day')\n",
    "plt.ylabel('Average')\n",
    "plt.plot(daysWithAvg, avgs)\n",
    "display(fig)"
   ]
  },
  {
   "cell_type": "code",
   "execution_count": 22,
   "metadata": {},
   "outputs": [
    {
     "name": "stdout",
     "output_type": "stream",
     "text": [
      "Found 1621 404 URLs\n"
     ]
    },
    {
     "data": {
      "text/plain": [
       "PythonRDD[102] at RDD at PythonRDD.scala:48"
      ]
     },
     "execution_count": 22,
     "metadata": {},
     "output_type": "execute_result"
    }
   ],
   "source": [
    "# 4.a\n",
    "\n",
    "badRecords = (access_logs.filter(lambda x: x.response_code == 404))\n",
    "print 'Found %d 404 URLs' % badRecords.count()\n",
    "\n",
    "badRecords.cache()"
   ]
  },
  {
   "cell_type": "code",
   "execution_count": 25,
   "metadata": {},
   "outputs": [
    {
     "name": "stdout",
     "output_type": "stream",
     "text": [
      "404 URLS: [u'/%3A//spacelink.msfc.nasa.gov', u'/%7Eadverts/ibm/ad1/banner.gif', u'//history/apollo/apollo-13/apollo-13html', u'//spacelink.msfc.nasa.gov/', u'//spacelink.msfc.nasa.gov:70/00/About.Spacelink/File.Transfer.Protocols', u'/11/history/apollo/images/', u'/://spacelink.msfc.nasa.gov', u'/:/spacelink.msfc.nasa.gov', u'/DataSources/MetData.html', u'/Government/Research_Labs/NASA/Kennedy_Space_Center/', u'/HISTOTY/APOLLO/APOLLO-13/', u'/KSC.', u'/KSC.HTML', u'/KSC.HTML/', u'/LDAR/LDARhp.html', u'/NASA_TV/NASA_TV.html', u'/SDG/Experimental/demoweb/return.gif', u'/SHUTTLE', u'/SHUTTLE/COUNTDOWN/', u'/SHUTTLE/MISSION/STS-71/IMAGES/IMAGES.HTML', u'/SHUTTLE/MISSIONS/STS-71/IMAGES/IMAGES.HTML', u'/Science/Space/Missions/Magellan_Mission_to_Venus/', u'/Tools/Bars/Front/main_bar.gif', u'/Tools/Icons/Help/hw.embossed.grey.gif', u'/apollo-13.html', u'/att.net/dir800/', u'/bann04.gif', u'/base-ops/procurement/kscbus.htm', u'/bigspot.com', u'/cleve.net/cnnavbar.gif', u'/daily/ecs/s71e0003.jpg', u'/daily/ecs/s71e0004.jpg', u'/daily/esc/', u'/daily/esc/s71e0001.jpg', u'/de/systems.html', u'/demo/', u'/demos/', u'/elv/DELTA/uncons.htm', u'/elv/DOCS/LLV_DATE.HTM', u'/elv/SCOUT/elvhead2.gif']\n",
      "40\n"
     ]
    }
   ],
   "source": [
    "# 4.b\n",
    "\n",
    "badEndpoints = badRecords.map(lambda x: x.endpoint)\n",
    "badUniqueEndpoints = badEndpoints.distinct()\n",
    "badUniqueEndpointsPick40 = badUniqueEndpoints.takeOrdered(40)\n",
    "print '404 URLS: %s' % badUniqueEndpointsPick40\n",
    "\n",
    "print len(set(badUniqueEndpointsPick40))"
   ]
  },
  {
   "cell_type": "code",
   "execution_count": 26,
   "metadata": {},
   "outputs": [
    {
     "name": "stdout",
     "output_type": "stream",
     "text": [
      "Top Twenty 404 URLs: [(u'/pub/winvn/readme.txt', 84), (u'/pub/winvn/release.txt', 82), (u'/history/apollo/publications/sp-350/sp-350.txt~', 67), (u'/shuttle/resources/orbiters/atlantis.gif', 65), (u'/shuttle/missions/sts-71/images/KSC-95EC-0916.txt', 55), (u'/://spacelink.msfc.nasa.gov', 47), (u'/history/apollo/a-001/a-001-patch-small.gif', 46), (u'/history/apollo/pad-abort-test-1/pad-abort-test-1-patch-small.gif', 44), (u'/history/apollo/sa-1/sa-1-patch-small.gif', 42), (u'/history/apollo/apollo-13.html', 36), (u'/images/crawlerway-logo.gif', 31), (u'/shuttle/missions/sts-68/ksc-upclose.gif', 29), (u'/histroy/apollo-13/apollo-13.html', 20), (u'/history/apollo/sa-9/sa-9-patch-small.gif', 19), (u'/shuttle/missions/technology/sts-newsref/stsref-toc.html', 19), (u'/shuttle/resources/orbiters/challenger.gif', 18), (u'/shuttle/technology/images/tps_mods-small.gif', 14), (u'/history/apollo/images/little-joe.jpg', 13), (u'/persons/astronauts/a-to-d/conradCC.txt', 12), (u'/pub', 12)]\n"
     ]
    }
   ],
   "source": [
    "# 4.c\n",
    "\n",
    "badEndpointsCountPairTuple = badRecords.map(lambda x:(x.endpoint, 1)).reduceByKey(lambda a, b: (a+b))\n",
    "badEndpointsSum = badEndpointsCountPairTuple.sortBy(lambda x: x[1], False)\n",
    "badEndpointsTop20 = badEndpointsSum.take(20)\n",
    "print 'Top Twenty 404 URLs: %s' % badEndpointsTop20\n"
   ]
  },
  {
   "cell_type": "code",
   "execution_count": 27,
   "metadata": {},
   "outputs": [
    {
     "name": "stdout",
     "output_type": "stream",
     "text": [
      "Top 25 hosts that generated errors: [(u'piweba3y.prodigy.com', 29), (u'128.158.48.26', 26), (u'espresso.sd.inri.com', 25), (u'www-b6.proxy.aol.com', 22), (u'ch025.chance.berkeley.edu', 17), (u'www-d4.proxy.aol.com', 15), (u'ffong-sl.cc.emory.edu', 15), (u'alyssa.prodigy.com', 14), (u'cpcug.org', 14), (u'advantis.vnet.ibm.com', 13), (u'128.158.32.107', 12), (u'sta07.oit.unc.edu', 12), (u'dialup-2-89.gw.umn.edu', 11), (u'www-b5.proxy.aol.com', 11), (u'www-d1.proxy.aol.com', 10), (u'ten-nash.ten.k12.tn.us', 10), (u'dd13-025.compuserve.com', 10), (u'w20-575-4.mit.edu', 10), (u'disc.dna.affrc.go.jp', 9), (u'ix-bal2-14.ix.netcom.com', 9), (u'wstabnow.gsfc.nasa.gov', 9), (u'www-b1.proxy.aol.com', 8), (u'dawn14.cs.berkeley.edu', 8), (u'gatekeeper.mitre.org', 8), (u'204.64.145.73', 8)]\n"
     ]
    }
   ],
   "source": [
    "# 4.d\n",
    "\n",
    "errHostsCountPairTuple = badRecords.map(lambda x: (x.host, 1)).reduceByKey(lambda a,b: (a+b))\n",
    "errHostsSum = errHostsCountPairTuple.sortBy(lambda x: x[1], False)\n",
    "errHostsTop25 = errHostsSum.take(25)\n",
    "print 'Top 25 hosts that generated errors: %s' % errHostsTop25"
   ]
  },
  {
   "cell_type": "code",
   "execution_count": 28,
   "metadata": {},
   "outputs": [
    {
     "name": "stdout",
     "output_type": "stream",
     "text": [
      "404 Errors by day: [(2, 291), (3, 474), (4, 359), (5, 497)]\n"
     ]
    },
    {
     "data": {
      "text/plain": [
       "PythonRDD[150] at collect at <ipython-input-28-283ea2e8757c>:6"
      ]
     },
     "execution_count": 28,
     "metadata": {},
     "output_type": "execute_result"
    }
   ],
   "source": [
    "# 4.e\n",
    "\n",
    "errDateCountPairTuple = badRecords.map(lambda x: (x.date_time.day, 1))\n",
    "errDateSum = errDateCountPairTuple.reduceByKey(lambda a,b: (a+b))\n",
    "errDateSorted = (errDateSum.sortByKey())\n",
    "errByDate = errDateSorted.collect()\n",
    "print '404 Errors by day: %s' % errByDate\n",
    "errDateSorted.cache()"
   ]
  },
  {
   "cell_type": "code",
   "execution_count": 29,
   "metadata": {},
   "outputs": [
    {
     "data": {
      "image/png": "[encoded data removed]",
      "text/plain": [
       "<matplotlib.figure.Figure at 0xc59ef60>"
      ]
     },
     "metadata": {},
     "output_type": "display_data"
    }
   ],
   "source": [
    "# 4.f\n",
    "\n",
    "daysWithErrors404 = errDateSorted.keys().collect()\n",
    "errors404ByDay = errDateSorted.values().collect()\n",
    "fig = plt.figure(figsize=(8,4.2), facecolor='white', edgecolor='white')\n",
    "plt.axis([0, max(daysWithErrors404), 0, max(errors404ByDay)])\n",
    "plt.grid(b=True, which='major', axis='y')\n",
    "plt.xlabel('Day')\n",
    "plt.ylabel('404 Errors')\n",
    "plt.plot(daysWithErrors404, errors404ByDay)\n",
    "display(fig)"
   ]
  },
  {
   "cell_type": "code",
   "execution_count": 36,
   "metadata": {},
   "outputs": [
    {
     "name": "stdout",
     "output_type": "stream",
     "text": [
      "404 Errors by hour: [(0, 72), (1, 77), (2, 37), (3, 30), (4, 13), (5, 22), (6, 26), (7, 42), (8, 72), (9, 104), (10, 64), (11, 68), (12, 69), (13, 52), (14, 98), (15, 99), (16, 121), (17, 76), (18, 101), (19, 54), (20, 58), (21, 52), (22, 73), (23, 141)]\n"
     ]
    },
    {
     "data": {
      "text/plain": [
       "PythonRDD[174] at collect at <ipython-input-36-fbedbe9c9469>:6"
      ]
     },
     "execution_count": 36,
     "metadata": {},
     "output_type": "execute_result"
    }
   ],
   "source": [
    "# 4.g\n",
    "\n",
    "hourCountPairTuple = badRecords.map(lambda log:(log.date_time.hour, 1))\n",
    "hourRecordsSum = hourCountPairTuple.reduceByKey(lambda a,b: a+b)\n",
    "hourRecordsSorted = (hourRecordsSum.sortByKey())\n",
    "errHourList = hourRecordsSorted.collect()\n",
    "print '404 Errors by hour: %s' % errHourList\n",
    "\n",
    "hourRecordsSorted.cache()"
   ]
  },
  {
   "cell_type": "code",
   "execution_count": 37,
   "metadata": {},
   "outputs": [
    {
     "data": {
      "image/png": "[encoded data removed]",
      "text/plain": [
       "<matplotlib.figure.Figure at 0xc9b8c88>"
      ]
     },
     "metadata": {},
     "output_type": "display_data"
    }
   ],
   "source": [
    "# 4.h\n",
    "\n",
    "hoursWithErrors404 = hourRecordsSorted.keys().collect()\n",
    "errors404ByHours = hourRecordsSorted.values().collect()\n",
    "fig = plt.figure(figsize=(8,4.2), facecolor='white', edgecolor='white')\n",
    "plt.axis([0, max(hoursWithErrors404), 0, max(errors404ByHours)])\n",
    "plt.grid(b=True, which='major', axis='y')\n",
    "plt.xlabel('Hour')\n",
    "plt.ylabel('404 Errors')\n",
    "plt.plot(hoursWithErrors404, errors404ByHours)\n",
    "display(fig)"
   ]
  }
 ],
 "metadata": {
  "kernelspec": {
   "display_name": "Python 2",
   "language": "python",
   "name": "python2"
  },
  "language_info": {
   "codemirror_mode": {
    "name": "ipython",
    "version": 2
   },
   "file_extension": ".py",
   "mimetype": "text/x-python",
   "name": "python",
   "nbconvert_exporter": "python",
   "pygments_lexer": "ipython2",
   "version": "2.7.14"
  }
 },
 "nbformat": 4,
 "nbformat_minor": 2
}
