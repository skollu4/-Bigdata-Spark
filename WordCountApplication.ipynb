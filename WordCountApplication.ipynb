{
 "cells": [
  {
   "cell_type": "code",
   "execution_count": 1,
   "metadata": {},
   "outputs": [
    {
     "name": "stdout",
     "output_type": "stream",
     "text": [
      "<class 'pyspark.rdd.RDD'>\n"
     ]
    }
   ],
   "source": [
    "# 1.a\n",
    "\n",
    "sc = SparkContext.getOrCreate()\n",
    "wordsList = ['cat', 'elephant', 'rat', 'rat', 'cat']\n",
    "wordsRDD = sc.parallelize(wordsList, 4)\n",
    "print type (wordsRDD)"
   ]
  },
  {
   "cell_type": "code",
   "execution_count": 2,
   "metadata": {},
   "outputs": [
    {
     "name": "stdout",
     "output_type": "stream",
     "text": [
      "cats\n"
     ]
    }
   ],
   "source": [
    "# 1.b\n",
    "\n",
    "def makePlural(word):\n",
    "    return (word + 's')\n",
    "print makePlural('cat')"
   ]
  },
  {
   "cell_type": "code",
   "execution_count": 3,
   "metadata": {},
   "outputs": [
    {
     "name": "stdout",
     "output_type": "stream",
     "text": [
      "['cats', 'elephants', 'rats', 'rats', 'cats']\n"
     ]
    }
   ],
   "source": [
    "# 1.c\n",
    "\n",
    "pluralRDD = wordsRDD.map(makePlural)\n",
    "print pluralRDD.collect()"
   ]
  },
  {
   "cell_type": "code",
   "execution_count": 4,
   "metadata": {},
   "outputs": [
    {
     "name": "stdout",
     "output_type": "stream",
     "text": [
      "['cats', 'elephants', 'rats', 'rats', 'cats']\n"
     ]
    }
   ],
   "source": [
    "# 1.d\n",
    "\n",
    "pluralLambdaRDD = wordsRDD.map(lambda r: r + 's')\n",
    "print pluralLambdaRDD.collect()"
   ]
  },
  {
   "cell_type": "code",
   "execution_count": 5,
   "metadata": {},
   "outputs": [
    {
     "name": "stdout",
     "output_type": "stream",
     "text": [
      "[4, 9, 4, 4, 4]\n"
     ]
    }
   ],
   "source": [
    "# 1.e\n",
    "\n",
    "pluralLengths = (pluralRDD.map(lambda a: len(a)).collect())\n",
    "print pluralLengths"
   ]
  },
  {
   "cell_type": "code",
   "execution_count": 6,
   "metadata": {},
   "outputs": [
    {
     "name": "stdout",
     "output_type": "stream",
     "text": [
      "[('cat', 1), ('elephant', 1), ('rat', 1), ('rat', 1), ('cat', 1)]\n"
     ]
    }
   ],
   "source": [
    "# 1.f\n",
    "\n",
    "wordPairs = wordsRDD.map(lambda k: (k, 1))\n",
    "print wordPairs.collect()"
   ]
  },
  {
   "cell_type": "code",
   "execution_count": 7,
   "metadata": {},
   "outputs": [
    {
     "name": "stdout",
     "output_type": "stream",
     "text": [
      "rat : [1, 1]\n",
      "elephant : [1]\n",
      "cat : [1, 1]\n"
     ]
    },
    {
     "data": {
      "text/plain": [
       "[('cat', [1, 1]), ('elephant', [1]), ('rat', [1, 1])]"
      ]
     },
     "execution_count": 7,
     "metadata": {},
     "output_type": "execute_result"
    }
   ],
   "source": [
    "# 2.a\n",
    "\n",
    "wordsGrouped = wordPairs.groupByKey()\n",
    "for key, value in wordsGrouped.collect():\n",
    "    print '{0} : {1}'.format(key, list(value))\n",
    "    \n",
    "sorted(wordsGrouped.mapValues(lambda v:list(v)).collect())"
   ]
  },
  {
   "cell_type": "code",
   "execution_count": 8,
   "metadata": {},
   "outputs": [
    {
     "name": "stdout",
     "output_type": "stream",
     "text": [
      "[('rat', 2), ('elephant', 1), ('cat', 2)]\n"
     ]
    }
   ],
   "source": [
    "# 2.b\n",
    "\n",
    "wordCountsGrouped = wordsGrouped.map(lambda x: (x[0], sum(x[1])))\n",
    "print wordCountsGrouped.collect()"
   ]
  },
  {
   "cell_type": "code",
   "execution_count": 9,
   "metadata": {},
   "outputs": [
    {
     "name": "stdout",
     "output_type": "stream",
     "text": [
      "[('rat', 2), ('elephant', 1), ('cat', 2)]\n"
     ]
    }
   ],
   "source": [
    "# 2.c\n",
    "\n",
    "wordCounts = wordPairs.reduceByKey(lambda a, b: (a+b))\n",
    "print wordCounts.collect()"
   ]
  },
  {
   "cell_type": "code",
   "execution_count": 10,
   "metadata": {},
   "outputs": [
    {
     "name": "stdout",
     "output_type": "stream",
     "text": [
      "[('rat', 2), ('elephant', 1), ('cat', 2)]\n"
     ]
    },
    {
     "data": {
      "text/plain": [
       "[('cat', 2), ('elephant', 1), ('rat', 2)]"
      ]
     },
     "execution_count": 10,
     "metadata": {},
     "output_type": "execute_result"
    }
   ],
   "source": [
    "# 2.d\n",
    "\n",
    "wordCountsCollected = wordsRDD.map(lambda p: (p, 1)).reduceByKey(lambda a, b: (a+b)).collect()\n",
    "print wordCountsCollected\n",
    "sorted(wordCountsCollected)"
   ]
  },
  {
   "cell_type": "code",
   "execution_count": 11,
   "metadata": {},
   "outputs": [
    {
     "name": "stdout",
     "output_type": "stream",
     "text": [
      "3\n"
     ]
    }
   ],
   "source": [
    "# 3.a\n",
    "\n",
    "uniqueWords = len(wordCountsCollected)\n",
    "print uniqueWords"
   ]
  },
  {
   "cell_type": "code",
   "execution_count": 12,
   "metadata": {},
   "outputs": [
    {
     "name": "stdout",
     "output_type": "stream",
     "text": [
      "5\n",
      "1.67\n"
     ]
    }
   ],
   "source": [
    "# 3.b\n",
    "\n",
    "from operator import add\n",
    "totalCount = (wordCounts.map(lambda x: x[1]).reduce(add))\n",
    "average = totalCount / float(uniqueWords)\n",
    "print(totalCount)\n",
    "print (round(average, 2))"
   ]
  },
  {
   "cell_type": "code",
   "execution_count": 14,
   "metadata": {},
   "outputs": [
    {
     "name": "stdout",
     "output_type": "stream",
     "text": [
      "[('rat', 2), ('elephant', 1), ('cat', 2)]\n"
     ]
    }
   ],
   "source": [
    "# 4.a\n",
    "\n",
    "def wordCount(wordListRDD):\n",
    "    return wordListRDD.map(lambda a: (a, 1)).reduceByKey(lambda a, b: (a+b))\n",
    "print wordCount(wordsRDD).collect()"
   ]
  },
  {
   "cell_type": "code",
   "execution_count": 15,
   "metadata": {},
   "outputs": [
    {
     "name": "stdout",
     "output_type": "stream",
     "text": [
      "hi you\n",
      "no underscore\n",
      "remove punctuation then spaces\n"
     ]
    }
   ],
   "source": [
    "# 4.b\n",
    "\n",
    "import re, string\n",
    "def removePunctuation(text):\n",
    "    output = re.sub('[%s]' % re.escape(string.punctuation), '', text)\n",
    "    return output.lower().strip()\n",
    "print removePunctuation('Hi, you!')\n",
    "print removePunctuation('No under_score!')\n",
    "print removePunctuation('*   Remove punctuation then spaces *')\n"
   ]
  },
  {
   "cell_type": "code",
   "execution_count": 16,
   "metadata": {},
   "outputs": [
    {
     "name": "stdout",
     "output_type": "stream",
     "text": [
      "0: this is the 100th etext file presented by project gutenberg and\n",
      "1: is presented in cooperation with world library inc from their\n",
      "2: library of the future and shakespeare cdroms  project gutenberg\n",
      "3: often releases etexts that are not placed in the public domain\n",
      "4: \n",
      "5: shakespeare\n",
      "6: \n",
      "7: this etext has certain copyright implications you should read\n",
      "8: \n",
      "9: this electronic version of the complete works of william\n",
      "10: shakespeare is copyright 19901993 by world library inc and is\n",
      "11: provided by project gutenberg etext of illinois benedictine college\n",
      "12: with permission  electronic and machine readable copies may be\n",
      "13: distributed so long as such copies 1 are for your or others\n",
      "14: personal use only and 2 are not distributed or used\n"
     ]
    }
   ],
   "source": [
    "# 4.c\n",
    "\n",
    "fileName = \"shakespeare.txt\"\n",
    "\n",
    "shakespeareRDD = (sc.textFile(fileName, 8).map(removePunctuation))\n",
    "print '\\n'.join(shakespeareRDD\n",
    "          .zipWithIndex() # to (line, lineNum)\n",
    "          .map(lambda (l, num): '{0}: {1}'.format(num, l)) # to 'lineNum: line'\n",
    "          .take(15))"
   ]
  },
  {
   "cell_type": "code",
   "execution_count": 17,
   "metadata": {},
   "outputs": [
    {
     "name": "stdout",
     "output_type": "stream",
     "text": [
      "[u'zwaggerd', u'zounds', u'zounds', u'zounds', u'zounds']\n",
      "946354\n"
     ]
    }
   ],
   "source": [
    "# 4.d\n",
    "\n",
    "shakespeareWordsRDD = shakespeareRDD.flatMap(lambda x: x.split(\" \"))\n",
    "shakespeareWordCount = shakespeareWordsRDD.count()\n",
    "print shakespeareWordsRDD.top(5)\n",
    "print shakespeareWordCount"
   ]
  },
  {
   "cell_type": "code",
   "execution_count": 18,
   "metadata": {},
   "outputs": [
    {
     "name": "stdout",
     "output_type": "stream",
     "text": [
      "901109\n"
     ]
    }
   ],
   "source": [
    "# 4.e\n",
    "\n",
    "shakeWordsRDD = shakespeareWordsRDD.filter(lambda x: x!=\"\")\n",
    "shakeWordCount = shakeWordsRDD.count()\n",
    "print shakeWordCount"
   ]
  },
  {
   "cell_type": "code",
   "execution_count": 19,
   "metadata": {},
   "outputs": [
    {
     "name": "stdout",
     "output_type": "stream",
     "text": [
      "the: 27645\n",
      "and: 26733\n",
      "i: 20683\n",
      "to: 19198\n",
      "of: 18180\n",
      "a: 14613\n",
      "you: 13650\n",
      "my: 12480\n",
      "that: 11122\n",
      "in: 10967\n",
      "is: 9598\n",
      "not: 8725\n",
      "for: 8245\n",
      "with: 7996\n",
      "me: 7768\n"
     ]
    }
   ],
   "source": [
    "# 4.f\n",
    "\n",
    "top15WordsAndCounts = wordCount(shakeWordsRDD).takeOrdered(15, key=lambda (a,b):-b)\n",
    "print '\\n'.join(map(lambda (w, c): '{0}: {1}'.format(w, c), top15WordsAndCounts))"
   ]
  }
 ],
 "metadata": {
  "kernelspec": {
   "display_name": "Python 2",
   "language": "python",
   "name": "python2"
  },
  "language_info": {
   "codemirror_mode": {
    "name": "ipython",
    "version": 2
   },
   "file_extension": ".py",
   "mimetype": "text/x-python",
   "name": "python",
   "nbconvert_exporter": "python",
   "pygments_lexer": "ipython2",
   "version": "2.7.14"
  }
 },
 "nbformat": 4,
 "nbformat_minor": 2
}
