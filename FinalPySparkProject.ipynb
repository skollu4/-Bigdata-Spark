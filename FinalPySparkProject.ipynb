{
 "cells": [
  {
   "cell_type": "code",
   "execution_count": 3,
   "metadata": {
    "collapsed": true
   },
   "outputs": [],
   "source": [
    "sc = SparkContext.getOrCreate()"
   ]
  },
  {
   "cell_type": "code",
   "execution_count": 4,
   "metadata": {
    "collapsed": true
   },
   "outputs": [],
   "source": [
    "ratingsFilename = 'ratings.dat'\n",
    "moviesFilename = 'movies.dat'"
   ]
  },
  {
   "cell_type": "code",
   "execution_count": 5,
   "metadata": {},
   "outputs": [
    {
     "name": "stdout",
     "output_type": "stream",
     "text": [
      "Total number of ratings are 1559032 and number of movies are 3883\n",
      "ratings: [(1, 1193, 5.0), (1, 361, 3.0), (1, 414, 3.0), (1, 3408, 4.0), (1, 2355, 5.0), (1, 1197, 3.0)]\n",
      "movies: [(1, u'Toy Story (1995)'), (2, u'Jumanji (1995)'), (3, u'Grumpier Old Men (1995)'), (4, u'Waiting to Exhale (1995)'), (5, u'Father of the Bride Part II (1995)'), (6, u'Heat (1995)')]\n"
     ]
    }
   ],
   "source": [
    "partitions = 2\n",
    "rawRatings = sc.textFile(ratingsFilename).repartition(partitions)\n",
    "rawMovies = sc.textFile(moviesFilename)\n",
    "\n",
    "def ratings_tuple(ratingsList):\n",
    "    items = ratingsList.split('::')\n",
    "    return int(items[0]), int(items[1]), float(items[2])\n",
    "\n",
    "def movies_tuple(moviesList):\n",
    "    items = moviesList.split('::')\n",
    "    return int(items[0]), items[1]\n",
    "\n",
    "ratingsRdd = rawRatings.map(ratings_tuple).cache()\n",
    "moviesRdd = rawMovies.map(movies_tuple).cache()\n",
    "\n",
    "ratingsRddCount = ratingsRdd.count()\n",
    "moviesRddCount = moviesRdd.count()\n",
    "\n",
    "print 'Total number of ratings are %s and number of movies are %s' % (ratingsRddCount, moviesRddCount)\n",
    "print 'ratings: %s' % ratingsRdd.take(6)\n",
    "print 'movies: %s' % moviesRdd.take(6)"
   ]
  },
  {
   "cell_type": "code",
   "execution_count": 6,
   "metadata": {
    "collapsed": true
   },
   "outputs": [],
   "source": [
    "def countAndAverage(IDAndRatings):\n",
    "    ratings = IDAndRatings[1]\n",
    "    count = len(ratings)\n",
    "    average = sum(ratings)/float(count)\n",
    "    return (IDAndRatings[0], (count, average))"
   ]
  },
  {
   "cell_type": "code",
   "execution_count": 7,
   "metadata": {},
   "outputs": [
    {
     "name": "stdout",
     "output_type": "stream",
     "text": [
      "movieIDsWithRatingsRDD: [(1, <pyspark.resultiterable.ResultIterable object at 0x0000000009725A20>), (2, <pyspark.resultiterable.ResultIterable object at 0x0000000009725BE0>), (3, <pyspark.resultiterable.ResultIterable object at 0x0000000009725C18>), (4, <pyspark.resultiterable.ResultIterable object at 0x0000000009725C50>), (5, <pyspark.resultiterable.ResultIterable object at 0x0000000009725C88>), (8, <pyspark.resultiterable.ResultIterable object at 0x0000000009725CC0>)]\n"
     ]
    }
   ],
   "source": [
    "movieIDsWithRatingsRDD = (ratingsRdd.map(lambda (userID, movieID, Ratings): (movieID, Ratings)).groupByKey().sortByKey())\n",
    "\n",
    "print 'movieIDsWithRatingsRDD: %s' % movieIDsWithRatingsRDD.take(6)"
   ]
  },
  {
   "cell_type": "code",
   "execution_count": 8,
   "metadata": {},
   "outputs": [
    {
     "name": "stdout",
     "output_type": "stream",
     "text": [
      "movieIDsWithAvgRatingsRDD: [(1, (2077, 4.146846413095811)), (2, (701, 3.20114122681883)), (3, (1876, 3.544776119402985)), (4, (340, 2.764705882352941)), (5, (1184, 3.4070945945945947)), (8, (1, 5.0))]\n"
     ]
    }
   ],
   "source": [
    "movieIDsWithAvgRatingsRDD = movieIDsWithRatingsRDD.map(countAndAverage)\n",
    "print 'movieIDsWithAvgRatingsRDD: %s' % movieIDsWithAvgRatingsRDD.take(6)"
   ]
  },
  {
   "cell_type": "code",
   "execution_count": 9,
   "metadata": {},
   "outputs": [
    {
     "name": "stdout",
     "output_type": "stream",
     "text": [
      "movieNameWithAvgRatingsRDD: [(2.764705882352941, u'Waiting to Exhale (1995)', 340), (5.0, u'Tom and Huck (1995)', 1), (2.37888198757764, u'Dracula: Dead and Loving It (1995)', 161), (3.7932551319648096, u'Casino (1995)', 682), (2.5375, u'Money Train (1995)', 160), (3.1794871794871793, u'Powder (1995)', 624)]\n"
     ]
    }
   ],
   "source": [
    "movieNameWithAvgRatingsRDD = (moviesRdd.join(movieIDsWithAvgRatingsRDD)\n",
    "                                       .map(lambda (movieId, (movieName, (count, average ))): ( average, movieName, count)))\n",
    "print 'movieNameWithAvgRatingsRDD: %s' % movieNameWithAvgRatingsRDD.take(6)"
   ]
  },
  {
   "cell_type": "code",
   "execution_count": 10,
   "metadata": {
    "collapsed": true
   },
   "outputs": [],
   "source": [
    "def sortFunction(input):\n",
    "    key = unicode('%.3f' % input[0])\n",
    "    value = input[1]\n",
    "    return (key + ' ' + value)"
   ]
  },
  {
   "cell_type": "code",
   "execution_count": 11,
   "metadata": {},
   "outputs": [
    {
     "name": "stdout",
     "output_type": "stream",
     "text": [
      "Movies with highest ratings: [(5.0, u'Ulysses (Ulisse) (1954)', 1), (5.0, u'Tom and Huck (1995)', 1), (5.0, u'Song of Freedom (1936)', 1), (5.0, u'Smashing Time (1967)', 2), (5.0, u'One Little Indian (1973)', 1), (5.0, u'Lured (1947)', 1), (5.0, u'GoldenEye (1995)', 1), (5.0, u'Follow the Bitch (1998)', 1), (5.0, u'Bittersweet Motel (2000)', 1), (5.0, u'Baby, The (1973)', 1), (4.8, u'I Am Cuba (Soy Cuba/Ya Kuba) (1964)', 5), (4.666666666666667, u'Apple, The (Sib) (1998)', 9), (4.608695652173913, u'Sanjuro (1962)', 69), (4.560509554140127, u'Seven Samurai (The Magnificent Seven) (Shichinin no samurai) (1954)', 628), (4.529308065226973, u'Shawshank Redemption, The (1994)', 2269), (4.507936507936508, u'Wrong Trousers, The (1993)', 882), (4.5, u'Skipped Parts (2000)', 2), (4.5, u'Primal Fear (1996)', 2), (4.5, u'Inheritors, The (Die Siebtelbauern) (1998)', 2), (4.5, u'Dry Cleaning (Nettoyage \\ufffd sec) (1997)', 2), (4.5, u'Callej\\ufffdn de los milagros, El (1995)', 2), (4.5, u'Bells, The (1926)', 2), (4.477724741447892, u'Raiders of the Lost Ark (1981)', 2514), (4.473913043478261, u'Paths of Glory (1957)', 230), (4.471803702109342, u'Geronimo: An American Legend (1993)', 2323), (4.453694416583082, u'Star Wars: Episode IV - A New Hope (1977)', 2991), (4.452083333333333, u'Third Man, The (1949)', 480), (4.444444444444445, u'For All Mankind (1989)', 27), (4.425646551724138, u'To Kill a Mockingbird (1962)', 928), (4.4196755625327055, u'Usual Suspects, The (1995)', 1911)]\n"
     ]
    }
   ],
   "source": [
    "movieLimitedAndSortedByRatingRDD = (movieNameWithAvgRatingsRDD.filter(lambda s: s > 600).sortBy(sortFunction, False))\n",
    "print 'Movies with highest ratings: %s' % movieLimitedAndSortedByRatingRDD.take(30)"
   ]
  },
  {
   "cell_type": "code",
   "execution_count": 12,
   "metadata": {},
   "outputs": [
    {
     "name": "stdout",
     "output_type": "stream",
     "text": [
      "Training: 1246925, validation: 155854, test: 156253\n",
      "\n",
      "[(1, 361, 3.0), (1, 414, 3.0), (1, 3408, 4.0), (1, 2355, 5.0), (1, 1197, 3.0), (1, 2321, 3.0)]\n",
      "[(1, 594, 4.0), (1, 1270, 5.0), (1, 1961, 5.0), (1, 2692, 4.0), (1, 2028, 5.0), (2, 2916, 3.0)]\n",
      "[(1, 1193, 5.0), (1, 1287, 5.0), (1, 2804, 5.0), (1, 419, 4.0), (1, 1545, 4.0), (1, 345, 3.0)]\n"
     ]
    }
   ],
   "source": [
    "trainingRDD, validationRDD, testRDD = ratingsRdd.randomSplit([8, 1, 1], seed=0L)\n",
    "\n",
    "print 'Training: %s, validation: %s, test: %s\\n' % (trainingRDD.count(),\n",
    "                                                    validationRDD.count(),\n",
    "                                                    testRDD.count())\n",
    "print trainingRDD.take(6)\n",
    "print validationRDD.take(6)\n",
    "print testRDD.take(6)"
   ]
  },
  {
   "cell_type": "code",
   "execution_count": 13,
   "metadata": {
    "collapsed": true
   },
   "outputs": [],
   "source": [
    "import math\n",
    "\n",
    "def computeError(predictedRDD, actualRDD):\n",
    "    predictedReformattedRDD = predictedRDD.map(lambda (userId, movieId, rating): ((userId, movieId), rating))\n",
    "    actualReformattedRDD = actualRDD.map(lambda (userId, movieId, rating): ((userId, movieId), rating))\n",
    "    squaredErrorsRDD = (predictedReformattedRDD.join(actualReformattedRDD)\n",
    "                        .map(lambda ((userId, movieId),(predValue, actValue)): (predValue - actValue)**2))\n",
    "    totalError = squaredErrorsRDD.reduce(lambda a, b: (a + b))\n",
    "    numRatings = squaredErrorsRDD.count()\n",
    "    return math.sqrt(1.0*totalError/ numRatings)"
   ]
  },
  {
   "cell_type": "code",
   "execution_count": 14,
   "metadata": {},
   "outputs": [
    {
     "name": "stdout",
     "output_type": "stream",
     "text": [
      "For rank 4 the RMSE is 0.885539086616\n",
      "For rank 8 the RMSE is 0.880820311222\n",
      "For rank 12 the RMSE is 0.8879282902\n",
      "The best model was trained with rank 8\n"
     ]
    }
   ],
   "source": [
    "from pyspark.mllib.recommendation import ALS\n",
    "\n",
    "validationForPredictRDD = validationRDD.map(lambda (userId, movieId, rating): (userId, movieId))\n",
    "\n",
    "seed = 5L\n",
    "iterations = 5\n",
    "regularizationParameter = 0.1\n",
    "ranks = [4, 8, 12]\n",
    "errors = [0, 0, 0]\n",
    "err = 0\n",
    "tolerance = 0.03\n",
    "\n",
    "minError = float('inf')\n",
    "bestRank = -1\n",
    "bestIteration = -1\n",
    "for rank in ranks:\n",
    "    model = ALS.train(trainingRDD, rank, seed=seed, iterations=iterations,\n",
    "                      lambda_=regularizationParameter)\n",
    "    predictedRatingsRDD = model.predictAll(validationForPredictRDD)\n",
    "    error = computeError(predictedRatingsRDD, validationRDD)\n",
    "    errors[err] = error\n",
    "    err += 1\n",
    "    print 'For rank %s the RMSE is %s' % (rank, error)\n",
    "    if error < minError:\n",
    "        minError = error\n",
    "        bestRank = rank\n",
    "\n",
    "print 'The best model was trained with rank %s' % bestRank"
   ]
  },
  {
   "cell_type": "code",
   "execution_count": 16,
   "metadata": {},
   "outputs": [
    {
     "name": "stdout",
     "output_type": "stream",
     "text": [
      "The model had a RMSE on the test set of 0.876139049138\n"
     ]
    }
   ],
   "source": [
    "myModel = ALS.train(trainingRDD, bestRank, seed = seed, iterations = iterations, lambda_ = regularizationParameter)\n",
    "testForPredictingRDD = testRDD.map(lambda (userId, movieId, rating): (userId, movieId))\n",
    "predictedTestRDD = myModel.predictAll(testForPredictingRDD)\n",
    "\n",
    "testRMSE = computeError(testRDD, predictedTestRDD)\n",
    "\n",
    "print 'The model had a RMSE on the test set of %s' % testRMSE"
   ]
  },
  {
   "cell_type": "code",
   "execution_count": 17,
   "metadata": {},
   "outputs": [
    {
     "name": "stdout",
     "output_type": "stream",
     "text": [
      "The average rating for movies in the training set is 3.64529622872\n",
      "The RMSE on the average set is 1.02043866699\n"
     ]
    }
   ],
   "source": [
    "trainingAvgRating = trainingRDD.map(lambda (userid, movieid, rating): rating).reduce(lambda a,b: (a+b)) / trainingRDD.count()\n",
    "print 'The average rating for movies in the training set is %s' % trainingAvgRating\n",
    "\n",
    "testForAvgRDD = testRDD.map(lambda (userid, movieid, rating): (userid, movieid, trainingAvgRating))\n",
    "testAvgRMSE = computeError(testRDD, testForAvgRDD)\n",
    "print 'The RMSE on the average set is %s' % testAvgRMSE"
   ]
  },
  {
   "cell_type": "code",
   "execution_count": 18,
   "metadata": {},
   "outputs": [
    {
     "name": "stdout",
     "output_type": "stream",
     "text": [
      "Most rated movies:\n",
      "(average rating, movie name, number of reviews)\n",
      "(5.0, u'Ulysses (Ulisse) (1954)', 1)\n",
      "(5.0, u'Tom and Huck (1995)', 1)\n",
      "(5.0, u'Song of Freedom (1936)', 1)\n",
      "(5.0, u'Smashing Time (1967)', 2)\n",
      "(5.0, u'One Little Indian (1973)', 1)\n",
      "(5.0, u'Lured (1947)', 1)\n",
      "(5.0, u'GoldenEye (1995)', 1)\n",
      "(5.0, u'Follow the Bitch (1998)', 1)\n",
      "(5.0, u'Bittersweet Motel (2000)', 1)\n",
      "(5.0, u'Baby, The (1973)', 1)\n",
      "(4.8, u'I Am Cuba (Soy Cuba/Ya Kuba) (1964)', 5)\n",
      "(4.666666666666667, u'Apple, The (Sib) (1998)', 9)\n",
      "(4.608695652173913, u'Sanjuro (1962)', 69)\n",
      "(4.560509554140127, u'Seven Samurai (The Magnificent Seven) (Shichinin no samurai) (1954)', 628)\n",
      "(4.529308065226973, u'Shawshank Redemption, The (1994)', 2269)\n",
      "(4.507936507936508, u'Wrong Trousers, The (1993)', 882)\n",
      "(4.5, u'Skipped Parts (2000)', 2)\n",
      "(4.5, u'Primal Fear (1996)', 2)\n",
      "(4.5, u'Inheritors, The (Die Siebtelbauern) (1998)', 2)\n",
      "(4.5, u'Dry Cleaning (Nettoyage \\ufffd sec) (1997)', 2)\n",
      "(4.5, u'Callej\\ufffdn de los milagros, El (1995)', 2)\n",
      "(4.5, u'Bells, The (1926)', 2)\n",
      "(4.477724741447892, u'Raiders of the Lost Ark (1981)', 2514)\n",
      "(4.473913043478261, u'Paths of Glory (1957)', 230)\n",
      "(4.471803702109342, u'Geronimo: An American Legend (1993)', 2323)\n",
      "(4.453694416583082, u'Star Wars: Episode IV - A New Hope (1977)', 2991)\n",
      "(4.452083333333333, u'Third Man, The (1949)', 480)\n",
      "(4.444444444444445, u'For All Mankind (1989)', 27)\n",
      "(4.425646551724138, u'To Kill a Mockingbird (1962)', 928)\n",
      "(4.4196755625327055, u'Usual Suspects, The (1995)', 1911)\n",
      "(4.415607985480944, u'Double Indemnity (1944)', 551)\n",
      "(4.406262708418057, u'Sixth Sense, The (1999)', 2459)\n",
      "(4.404651162790698, u'Yojimbo (1961)', 215)\n",
      "(4.401925391095066, u'Lawrence of Arabia (1962)', 831)\n",
      "(4.4, u'Return with Honor (1998)', 5)\n",
      "(4.390724637681159, u\"One Flew Over the Cuckoo's Nest (1975)\", 1725)\n",
      "(4.387453874538745, u'City Lights (1931)', 271)\n",
      "(4.386993603411514, u'Bridge on the River Kwai, The (1957)', 938)\n",
      "(4.376436781609195, u'Great Escape, The (1963)', 696)\n",
      "(4.368932038834951, u'General, The (1927)', 206)\n",
      "(4.358649789029536, u'Grand Day Out, A (1992)', 474)\n",
      "(4.357565011820331, u'Godfather: Part II, The (1974)', 1692)\n",
      "(4.357446808510638, u'Suture (1993)', 470)\n",
      "(4.357142857142857, u'Hearts and Minds (1996)', 14)\n",
      "(4.357142857142857, u'Bicycle Thief, The (Ladri di biciclette) (1948)', 252)\n",
      "(4.343453510436433, u'Blink (1994)', 527)\n",
      "(4.33939393939394, u'Grand Illusion (Grande illusion, La) (1937)', 165)\n",
      "(4.339240506329114, u'Chinatown (1974)', 1185)\n",
      "(4.337353938937053, u'Saving Private Ryan (1998)', 2653)\n",
      "(4.335766423357664, u'Creature Comforts (1990)', 274)\n",
      "(4.335347432024169, u\"Schindler's List (1993)\", 2648)\n",
      "(4.335209505941213, u'Monty Python and the Holy Grail (1974)', 1599)\n",
      "(4.333333333333333, u'Soft Fruit (1999)', 9)\n",
      "(4.333333333333333, u'Manchurian Candidate, The (1962)', 765)\n",
      "(4.333333333333333, u\"Jupiter's Wife (1994)\", 12)\n",
      "(4.329861111111111, u'Life Is Beautiful (La Vita \\ufffd bella) (1997)', 1152)\n",
      "(4.326086956521739, u'Dersu Uzala (1974)', 92)\n",
      "(4.324074074074074, u'Jean de Florette (1986)', 216)\n",
      "(4.32129963898917, u'When We Were Kings (1996)', 277)\n",
      "(4.320855614973262, u'400 Blows, The (Les Quatre cents coups) (1959)', 187)\n"
     ]
    }
   ],
   "source": [
    "print 'Most rated movies:'\n",
    "print '(average rating, movie name, number of reviews)'\n",
    "for ratingsTuple in movieLimitedAndSortedByRatingRDD.take(60):\n",
    "    print ratingsTuple"
   ]
  },
  {
   "cell_type": "code",
   "execution_count": 19,
   "metadata": {},
   "outputs": [
    {
     "name": "stdout",
     "output_type": "stream",
     "text": [
      "My movie ratings: [(0, 240, 5), (0, 360, 4), (0, 216, 5), (0, 24, 3), (0, 120, 2), (0, 150, 3)]\n"
     ]
    }
   ],
   "source": [
    "myRatedMovies = [(0, 240, 5), (0, 360, 4), (0, 216, 5), (0, 24, 3), (0, 120, 2), (0, 150, 3)]\n",
    "myRatingsRDD = sc.parallelize(myRatedMovies)\n",
    "print 'My movie ratings: %s' % myRatingsRDD.take(15)"
   ]
  },
  {
   "cell_type": "code",
   "execution_count": 20,
   "metadata": {},
   "outputs": [
    {
     "name": "stdout",
     "output_type": "stream",
     "text": [
      "The training dataset now has 6 more entries than the original training dataset\n"
     ]
    }
   ],
   "source": [
    "trainingWithMyRatingsRDD = trainingRDD.union(myRatingsRDD)\n",
    "\n",
    "print ('The training dataset now has %s more entries than the original training dataset' %\n",
    "       (trainingWithMyRatingsRDD.count() - trainingRDD.count()))"
   ]
  },
  {
   "cell_type": "code",
   "execution_count": 21,
   "metadata": {
    "collapsed": true
   },
   "outputs": [],
   "source": [
    "myRatingsModel = ALS.train(trainingWithMyRatingsRDD, bestRank, \n",
    "                           seed = seed, iterations = iterations, lambda_ = regularizationParameter)"
   ]
  },
  {
   "cell_type": "code",
   "execution_count": 23,
   "metadata": {},
   "outputs": [
    {
     "name": "stdout",
     "output_type": "stream",
     "text": [
      "The model had a RMSE on the test set of 0.883916564327\n"
     ]
    }
   ],
   "source": [
    "predictedTestMyRatingsRDD = myRatingsModel.predictAll(testForPredictingRDD)\n",
    "testRMSEMyRatings = computeError(predictedTestMyRatingsRDD, testRDD)\n",
    "print 'The model had a RMSE on the test set of %s' % testRMSEMyRatings"
   ]
  },
  {
   "cell_type": "code",
   "execution_count": 26,
   "metadata": {},
   "outputs": [],
   "source": [
    "myUnratedMoviesRDD = (moviesRdd.filter(lambda (movieID,title): movieID not in [int(i[1]) for i in myRatedMovies])\n",
    "                      .map(lambda(movieID,title): (0,movieID)))\n",
    "predictedRatingsRDD = myRatingsModel.predictAll(myUnratedMoviesRDD)"
   ]
  },
  {
   "cell_type": "code",
   "execution_count": 31,
   "metadata": {},
   "outputs": [
    {
     "name": "stdout",
     "output_type": "stream",
     "text": [
      "My highest rated movies as predicted (for movies with more than 100 reviews):\n",
      "(4.783271111574745, u'Patriot, The (2000)', 1240)\n",
      "(4.417099993376237, u'Waterboy, The (1998)', 420)\n",
      "(4.412723449333932, u'Armageddon (1998)', 1110)\n",
      "(4.359276946681395, u'Tommy Boy (1995)', 1770)\n",
      "(4.354184944895293, u'Austin Powers: The Spy Who Shagged Me (1999)', 1434)\n",
      "(4.352959978380735, u'Blue Streak (1999)', 128)\n",
      "(4.344718114634946, u'Braveheart (1995)', 2443)\n",
      "(4.321704100003138, u'Bloodsport (1988)', 222)\n",
      "(4.310727688462989, u'Deuce Bigalow: Male Gigolo (1999)', 308)\n",
      "(4.298950357271258, u'Coyote Ugly (2000)', 201)\n",
      "(4.283158578887151, u'American Pie (1999)', 1389)\n",
      "(4.277288961952914, u'Nutty Professor II: The Klumps (2000)', 248)\n",
      "(4.270989344289623, u'Big Green, The (1995)', 723)\n",
      "(4.266875224862038, u'Con Air (1997)', 954)\n",
      "(4.263110396994394, u'Christmas Vacation (1989)', 515)\n",
      "(4.23199424939802, u'Road Trip (2000)', 419)\n",
      "(4.2204721265853244, u'Rocky IV (1985)', 375)\n",
      "(4.197721907873872, u'Dirty Work (1998)', 135)\n",
      "(4.189666160969473, u'Dumb & Dumber (1994)', 660)\n",
      "(4.174768005454072, u'Die Hard: With a Vengeance (1995)', 825)\n"
     ]
    }
   ],
   "source": [
    "movieCountsRDD = movieIDsWithAvgRatingsRDD.map(lambda ((movieid), (count, avg)): (movieid, count))\n",
    "predictedRDD = predictedRatingsRDD.map(lambda (userid, movieid, predrating): (movieid, predrating))\n",
    "predictedWithCountsRDD  = (predictedRDD\n",
    "                           .join(movieCountsRDD))\n",
    "\n",
    "ratingsWithNamesRDD = (predictedWithCountsRDD\n",
    "                       .join(moviesRdd)\n",
    "                       .map(lambda (MovieID, ((rating, numRatings), MovieName)): (rating, MovieName, numRatings))\n",
    "                       .filter(lambda (rating, MovieName, numRatings): numRatings > 100))\n",
    "\n",
    "predictedHighestRatedMovies = ratingsWithNamesRDD.takeOrdered(20, lambda x: -x[0])\n",
    "print ('My highest rated movies as predicted (for movies with more than 100 reviews):\\n%s' %\n",
    "        '\\n'.join(map(str, predictedHighestRatedMovies)))\n"
   ]
  }
 ],
 "metadata": {
  "kernelspec": {
   "display_name": "Python 2",
   "language": "python",
   "name": "python2"
  },
  "language_info": {
   "codemirror_mode": {
    "name": "ipython",
    "version": 2
   },
   "file_extension": ".py",
   "mimetype": "text/x-python",
   "name": "python",
   "nbconvert_exporter": "python",
   "pygments_lexer": "ipython2",
   "version": "2.7.14"
  }
 },
 "nbformat": 4,
 "nbformat_minor": 2
}
